{
 "cells": [
  {
   "cell_type": "markdown",
   "metadata": {},
   "source": [
    "# Análisis y clasificación de indicadores para publicaciones científicas\n"
   ]
  },
  {
   "cell_type": "markdown",
   "metadata": {},
   "source": [
    "El estudio mostrado a continuación forma parte del desarrollo de una herramienta tipo buscador para poder localizar publicaciones científicas en bases de datos y poder clasificar y mostrar aquellas publicaciones mas relevantes en función de los parámetros de búsqueda introducidos\n",
    "\n",
    "Para ello se han utilizado cerca de 20000 registros de publicaciones, incluyendo los indicadores SJR y H index así como otros atributos propios de cada paper, como pueda ser su país de origen, el cuartil al que pertenecen o el área de estudio.\n",
    "\n",
    "Estos datos se han tratado desde una tabla general, cruzando sus valores de forma intrínseca y reflejando los resultados mediante gráficos, para de esta forma poder sacar conclusiones que permitan valorar qué indicadores pueden tener mas peso sobre otros, así como aspectos alternativos de una publicación que puedan servir para valorarla.\n",
    "\n",
    "Para el manejo de los datos, se han convertido a Dataframe dentro del entorno Python, para de esta forma poder tratar y convertir toda la información requerida en el estudio.\n",
    "\n",
    "Las librerías utilizadas han sido:\n",
    "\n",
    "Para la gestión de datos:\n",
    "\n",
    "* Pandas\n",
    "* Numpy\n",
    "\n",
    "Para la representación de datos en gráficas:\n",
    "\n",
    "* Seaborn \n",
    "* Plotly\n",
    "* Matplotly.pyplot\n",
    "* Nltk\n",
    "* Wordcloud \n",
    "\n",
    "Las gráficas principalmente utilizadas han sido de tipo barras, aunque se han necesitado alternativas como gráfias de líneas y nubes de palabras. Algunos ejemplos:\n",
    "\n",
    "Valoración de magnitud de indicadores:\n",
    "\n",
    "![imagen](./Gráficas/Magnitud%20SJR%20y%20H%20index.png)\n",
    "\n",
    "Cruce de datos entre países publicadores y mejor media por índice:\n",
    "\n",
    "![imagen](./Gráficas/Indices%20por%20país.png)\n",
    "\n",
    "Palabras mas usadas en los títulos analizados:\n",
    "\n",
    "![imagen](./Gráficas/Wordcloud.png)\n",
    "\n",
    "\n",
    "Como conclusiones, el estudio ha mostrado aspectos importantes a tener en cuenta a la hora de valorar una publicación científica en caso de no conocer sus índices de valoración, resultando esto de gran utilidad para la segunda parte del proyecto, aún por realizar.\n",
    "\n",
    "En base a los resultados obtenidos durante el estudio, para aquellas publicaciones en las que no se pueda contar con un índice tipo SJR o H index, se podrían valorar, por orden de importancia, aspectos alternativos tales como:\n",
    "\n",
    "* Cuartil al que pertenece, siendo el Q1 el prioritario\n",
    "* Nº de citaciones con las que cuenta la publicación, pues se observa relación con el SJR y el H index.\n",
    "* País de proveniencia, valorando principalmente aquellos que vengan de USA, UK o Netherlands.\n",
    "* Publicador al que pertenece, principalmente “Nature Search”, Massachussets Medical Societ” y “The Endocrine Society”.\n",
    "\n",
    "\n"
   ]
  }
 ],
 "metadata": {
  "kernelspec": {
   "display_name": "ML_ENV",
   "language": "python",
   "name": "python3"
  },
  "language_info": {
   "codemirror_mode": {
    "name": "ipython",
    "version": 3
   },
   "file_extension": ".py",
   "mimetype": "text/x-python",
   "name": "python",
   "nbconvert_exporter": "python",
   "pygments_lexer": "ipython3",
   "version": "3.10.14"
  }
 },
 "nbformat": 4,
 "nbformat_minor": 2
}
